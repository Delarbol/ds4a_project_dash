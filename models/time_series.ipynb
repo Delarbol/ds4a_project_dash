{
 "cells": [
  {
   "cell_type": "markdown",
   "metadata": {},
   "source": [
    "## Series de tiempo"
   ]
  },
  {
   "cell_type": "code",
   "execution_count": 3,
   "metadata": {},
   "outputs": [],
   "source": [
    "import pandas as pd\n",
    "import numpy as np\n",
    "from sqlalchemy import create_engine\n",
    "from tensorflow import keras\n",
    "from sklearn.model_selection import train_test_split\n",
    "from xgboost import XGBRegressor\n",
    "import matplotlib.pyplot as plt\n",
    "import seaborn as sns\n",
    "from statsmodels.tsa.arima.model import ARIMA\n",
    "from sklearn.metrics import *\n",
    "\n",
    "sns.set_style('whitegrid')"
   ]
  },
  {
   "cell_type": "code",
   "execution_count": 4,
   "metadata": {},
   "outputs": [],
   "source": [
    "driver = 'postgres'\n",
    "username = 'ds4a'\n",
    "password = 'ds4A-7eaM79'\n",
    "host = 'ds4a.cm1dcdf7pnnv.us-east-2.rds.amazonaws.com'\n",
    "port = 5432\n",
    "database = 'team_79'\n",
    "\n",
    "connection_string = f'{driver}://{username}:{password}@{host}:{port}/{database}'\n",
    "engine = create_engine(connection_string, encoding='utf8')"
   ]
  },
  {
   "cell_type": "code",
   "execution_count": 5,
   "metadata": {},
   "outputs": [],
   "source": [
    "homicidios ='''\n",
    "SELECT * FROM violencia_intrafamiliar\n",
    "'''\n",
    "\n",
    "data = pd.read_sql(homicidios, engine)"
   ]
  },
  {
   "cell_type": "code",
   "execution_count": 29,
   "metadata": {},
   "outputs": [],
   "source": [
    "bogota = data[data.municipio.str.contains('BOGO').fillna(False)].copy()\n",
    "# bogota = data\n",
    "bogota.fecha = pd.to_datetime(bogota.fecha)\n",
    "bogota_count = bogota.groupby('fecha').size().rename('num_cases')\n",
    "resampled_date = bogota_count.resample('D').first().fillna(0)"
   ]
  },
  {
   "cell_type": "code",
   "execution_count": 50,
   "metadata": {},
   "outputs": [],
   "source": [
    "X_train = resampled_date.iloc[0:int(resampled_date.shape[0]*0.8)]\n",
    "X_test = resampled_date.iloc[int(resampled_date.shape[0]*0.8):]\n",
    "arima_model = ARIMA(X_train, order=(2,1,1))\n",
    "res = arima_model.fit()"
   ]
  },
  {
   "cell_type": "code",
   "execution_count": 51,
   "metadata": {},
   "outputs": [],
   "source": [
    "preds = res.forecast(steps=X_test.shape[0])"
   ]
  },
  {
   "cell_type": "code",
   "execution_count": 52,
   "metadata": {},
   "outputs": [
    {
     "data": {
      "text/plain": [
       "9.249336839070946"
      ]
     },
     "execution_count": 52,
     "metadata": {},
     "output_type": "execute_result"
    }
   ],
   "source": [
    "mean_absolute_error(preds, X_test)"
   ]
  },
  {
   "cell_type": "code",
   "execution_count": null,
   "metadata": {},
   "outputs": [],
   "source": []
  }
 ],
 "metadata": {
  "kernelspec": {
   "display_name": "DS4A",
   "language": "python",
   "name": "ds4a"
  },
  "language_info": {
   "codemirror_mode": {
    "name": "ipython",
    "version": 3
   },
   "file_extension": ".py",
   "mimetype": "text/x-python",
   "name": "python",
   "nbconvert_exporter": "python",
   "pygments_lexer": "ipython3",
   "version": "3.7.3"
  }
 },
 "nbformat": 4,
 "nbformat_minor": 4
}
