{
 "cells": [
  {
   "cell_type": "code",
   "execution_count": 1,
   "metadata": {},
   "outputs": [
    {
     "name": "stderr",
     "output_type": "stream",
     "text": [
      "/home/santiagotc/anaconda3/lib/python3.7/site-packages/sklearn/utils/deprecation.py:144: FutureWarning: The sklearn.neighbors.kde module is  deprecated in version 0.22 and will be removed in version 0.24. The corresponding classes / functions should instead be imported from sklearn.neighbors. Anything that cannot be imported from sklearn.neighbors is now part of the private API.\n",
      "  warnings.warn(message, FutureWarning)\n"
     ]
    }
   ],
   "source": [
    "from pylab import *\n",
    "from sklearn.neighbors import KNeighborsClassifier \n",
    "from sklearn.neighbors.kde import KernelDensity\n",
    "from matplotlib import path\n",
    "import random\n",
    "from mpl_toolkits.basemap import Basemap \n",
    "import numpy as np\n",
    "import pandas as pd"
   ]
  },
  {
   "cell_type": "code",
   "execution_count": 22,
   "metadata": {},
   "outputs": [
    {
     "name": "stdout",
     "output_type": "stream",
     "text": [
      "Making plot without normalizing!\n",
      "Total number of points 2\n"
     ]
    },
    {
     "ename": "ValueError",
     "evalue": "'vertices' must be a 2D list or array with shape Nx2",
     "output_type": "error",
     "traceback": [
      "\u001b[0;31m---------------------------------------------------------------------------\u001b[0m",
      "\u001b[0;31mValueError\u001b[0m                                Traceback (most recent call last)",
      "\u001b[0;32m<ipython-input-22-270c833cc23d>\u001b[0m in \u001b[0;36m<module>\u001b[0;34m\u001b[0m\n\u001b[1;32m    142\u001b[0m     \u001b[0mfilename\u001b[0m \u001b[0;34m=\u001b[0m \u001b[0;34m'sample_data.csv'\u001b[0m\u001b[0;34m\u001b[0m\u001b[0;34m\u001b[0m\u001b[0m\n\u001b[1;32m    143\u001b[0m     \u001b[0mprint\u001b[0m \u001b[0;34m(\u001b[0m\u001b[0;34m\"Making plot without normalizing!\"\u001b[0m\u001b[0;34m)\u001b[0m\u001b[0;34m\u001b[0m\u001b[0;34m\u001b[0m\u001b[0m\n\u001b[0;32m--> 144\u001b[0;31m     \u001b[0mmakeNearestNeighborsDensityPlot\u001b[0m\u001b[0;34m(\u001b[0m\u001b[0mfilename\u001b[0m\u001b[0;34m,\u001b[0m \u001b[0mcol_of_interest\u001b[0m \u001b[0;34m=\u001b[0m \u001b[0;32mNone\u001b[0m\u001b[0;34m,\u001b[0m \u001b[0mtitle_string\u001b[0m \u001b[0;34m=\u001b[0m \u001b[0;34m\"Overall Shop Density\"\u001b[0m\u001b[0;34m)\u001b[0m\u001b[0;34m\u001b[0m\u001b[0;34m\u001b[0m\u001b[0m\n\u001b[0m\u001b[1;32m    145\u001b[0m     \u001b[0;31m#print (\"Making plot with normalizing!\")\u001b[0m\u001b[0;34m\u001b[0m\u001b[0;34m\u001b[0m\u001b[0;34m\u001b[0m\u001b[0m\n\u001b[1;32m    146\u001b[0m     \u001b[0;31m#makeNearestNeighborsDensityPlot(filename, col_of_interest = \"shop_is_pizza_shop\", title_string = \"Fraction of Shops which are Pizza Shops\")\u001b[0m\u001b[0;34m\u001b[0m\u001b[0;34m\u001b[0m\u001b[0;34m\u001b[0m\u001b[0m\n",
      "\u001b[0;32m<ipython-input-22-270c833cc23d>\u001b[0m in \u001b[0;36mmakeNearestNeighborsDensityPlot\u001b[0;34m(filename, col_of_interest, title_string, min_lat, max_lat, min_lon, max_lon, maskOffWater, cmap, color_min, color_max, n_neighbors, res, weights)\u001b[0m\n\u001b[1;32m    107\u001b[0m     \u001b[0mm\u001b[0m \u001b[0;34m=\u001b[0m \u001b[0mBasemap\u001b[0m\u001b[0;34m(\u001b[0m\u001b[0mllcrnrlat\u001b[0m \u001b[0;34m=\u001b[0m \u001b[0mmin_lat\u001b[0m\u001b[0;34m,\u001b[0m \u001b[0murcrnrlat\u001b[0m \u001b[0;34m=\u001b[0m \u001b[0mmax_lat\u001b[0m\u001b[0;34m,\u001b[0m \u001b[0mllcrnrlon\u001b[0m \u001b[0;34m=\u001b[0m \u001b[0mmin_lon\u001b[0m\u001b[0;34m,\u001b[0m \u001b[0murcrnrlon\u001b[0m\u001b[0;34m=\u001b[0m\u001b[0mmax_lon\u001b[0m\u001b[0;34m,\u001b[0m \u001b[0mresolution\u001b[0m\u001b[0;34m=\u001b[0m\u001b[0;34m'l'\u001b[0m\u001b[0;34m,\u001b[0m \u001b[0mfix_aspect\u001b[0m \u001b[0;34m=\u001b[0m \u001b[0;32mFalse\u001b[0m\u001b[0;34m)\u001b[0m\u001b[0;34m\u001b[0m\u001b[0;34m\u001b[0m\u001b[0m\n\u001b[1;32m    108\u001b[0m     \u001b[0;32mif\u001b[0m \u001b[0mmaskOffWater\u001b[0m\u001b[0;34m:\u001b[0m\u001b[0;34m\u001b[0m\u001b[0;34m\u001b[0m\u001b[0m\n\u001b[0;32m--> 109\u001b[0;31m         \u001b[0mm\u001b[0m\u001b[0;34m.\u001b[0m\u001b[0mdrawcoastlines\u001b[0m\u001b[0;34m(\u001b[0m\u001b[0;34m)\u001b[0m\u001b[0;34m\u001b[0m\u001b[0;34m\u001b[0m\u001b[0m\n\u001b[0m\u001b[1;32m    110\u001b[0m         \u001b[0mx\u001b[0m\u001b[0;34m,\u001b[0m \u001b[0my\u001b[0m \u001b[0;34m=\u001b[0m \u001b[0mm\u001b[0m\u001b[0;34m(\u001b[0m\u001b[0mdata_to_eval\u001b[0m\u001b[0;34m[\u001b[0m\u001b[0;34m:\u001b[0m\u001b[0;34m,\u001b[0m\u001b[0;36m1\u001b[0m\u001b[0;34m]\u001b[0m\u001b[0;34m,\u001b[0m \u001b[0mdata_to_eval\u001b[0m\u001b[0;34m[\u001b[0m\u001b[0;34m:\u001b[0m\u001b[0;34m,\u001b[0m\u001b[0;36m0\u001b[0m\u001b[0;34m]\u001b[0m\u001b[0;34m)\u001b[0m\u001b[0;34m\u001b[0m\u001b[0;34m\u001b[0m\u001b[0m\n\u001b[1;32m    111\u001b[0m         \u001b[0mloc\u001b[0m \u001b[0;34m=\u001b[0m \u001b[0mnp\u001b[0m\u001b[0;34m.\u001b[0m\u001b[0mc_\u001b[0m\u001b[0;34m[\u001b[0m\u001b[0mx\u001b[0m\u001b[0;34m,\u001b[0m \u001b[0my\u001b[0m\u001b[0;34m]\u001b[0m\u001b[0;34m\u001b[0m\u001b[0;34m\u001b[0m\u001b[0m\n",
      "\u001b[0;32m~/anaconda3/lib/python3.7/site-packages/mpl_toolkits/basemap/__init__.py\u001b[0m in \u001b[0;36mdrawcoastlines\u001b[0;34m(self, linewidth, linestyle, color, antialiased, ax, zorder)\u001b[0m\n\u001b[1;32m   1849\u001b[0m         \u001b[0;31m# get current axes instance (if none specified).\u001b[0m\u001b[0;34m\u001b[0m\u001b[0;34m\u001b[0m\u001b[0;34m\u001b[0m\u001b[0m\n\u001b[1;32m   1850\u001b[0m         \u001b[0max\u001b[0m \u001b[0;34m=\u001b[0m \u001b[0max\u001b[0m \u001b[0;32mor\u001b[0m \u001b[0mself\u001b[0m\u001b[0;34m.\u001b[0m\u001b[0m_check_ax\u001b[0m\u001b[0;34m(\u001b[0m\u001b[0;34m)\u001b[0m\u001b[0;34m\u001b[0m\u001b[0;34m\u001b[0m\u001b[0m\n\u001b[0;32m-> 1851\u001b[0;31m         \u001b[0mcoastlines\u001b[0m \u001b[0;34m=\u001b[0m \u001b[0mLineCollection\u001b[0m\u001b[0;34m(\u001b[0m\u001b[0mself\u001b[0m\u001b[0;34m.\u001b[0m\u001b[0mcoastsegs\u001b[0m\u001b[0;34m,\u001b[0m\u001b[0mantialiaseds\u001b[0m\u001b[0;34m=\u001b[0m\u001b[0;34m(\u001b[0m\u001b[0mantialiased\u001b[0m\u001b[0;34m,\u001b[0m\u001b[0;34m)\u001b[0m\u001b[0;34m)\u001b[0m\u001b[0;34m\u001b[0m\u001b[0;34m\u001b[0m\u001b[0m\n\u001b[0m\u001b[1;32m   1852\u001b[0m         \u001b[0mcoastlines\u001b[0m\u001b[0;34m.\u001b[0m\u001b[0mset_color\u001b[0m\u001b[0;34m(\u001b[0m\u001b[0mcolor\u001b[0m\u001b[0;34m)\u001b[0m\u001b[0;34m\u001b[0m\u001b[0;34m\u001b[0m\u001b[0m\n\u001b[1;32m   1853\u001b[0m         \u001b[0mcoastlines\u001b[0m\u001b[0;34m.\u001b[0m\u001b[0mset_linestyle\u001b[0m\u001b[0;34m(\u001b[0m\u001b[0mlinestyle\u001b[0m\u001b[0;34m)\u001b[0m\u001b[0;34m\u001b[0m\u001b[0;34m\u001b[0m\u001b[0m\n",
      "\u001b[0;32m~/anaconda3/lib/python3.7/site-packages/matplotlib/collections.py\u001b[0m in \u001b[0;36m__init__\u001b[0;34m(self, segments, linewidths, colors, antialiaseds, linestyles, offsets, transOffset, norm, cmap, pickradius, zorder, facecolors, **kwargs)\u001b[0m\n\u001b[1;32m   1357\u001b[0m             **kwargs)\n\u001b[1;32m   1358\u001b[0m \u001b[0;34m\u001b[0m\u001b[0m\n\u001b[0;32m-> 1359\u001b[0;31m         \u001b[0mself\u001b[0m\u001b[0;34m.\u001b[0m\u001b[0mset_segments\u001b[0m\u001b[0;34m(\u001b[0m\u001b[0msegments\u001b[0m\u001b[0;34m)\u001b[0m\u001b[0;34m\u001b[0m\u001b[0;34m\u001b[0m\u001b[0m\n\u001b[0m\u001b[1;32m   1360\u001b[0m \u001b[0;34m\u001b[0m\u001b[0m\n\u001b[1;32m   1361\u001b[0m     \u001b[0;32mdef\u001b[0m \u001b[0mset_segments\u001b[0m\u001b[0;34m(\u001b[0m\u001b[0mself\u001b[0m\u001b[0;34m,\u001b[0m \u001b[0msegments\u001b[0m\u001b[0;34m)\u001b[0m\u001b[0;34m:\u001b[0m\u001b[0;34m\u001b[0m\u001b[0;34m\u001b[0m\u001b[0m\n",
      "\u001b[0;32m~/anaconda3/lib/python3.7/site-packages/matplotlib/collections.py\u001b[0m in \u001b[0;36mset_segments\u001b[0;34m(self, segments)\u001b[0m\n\u001b[1;32m   1372\u001b[0m             \u001b[0m_segments\u001b[0m \u001b[0;34m=\u001b[0m \u001b[0mself\u001b[0m\u001b[0;34m.\u001b[0m\u001b[0m_add_offsets\u001b[0m\u001b[0;34m(\u001b[0m\u001b[0m_segments\u001b[0m\u001b[0;34m)\u001b[0m\u001b[0;34m\u001b[0m\u001b[0;34m\u001b[0m\u001b[0m\n\u001b[1;32m   1373\u001b[0m \u001b[0;34m\u001b[0m\u001b[0m\n\u001b[0;32m-> 1374\u001b[0;31m         \u001b[0mself\u001b[0m\u001b[0;34m.\u001b[0m\u001b[0m_paths\u001b[0m \u001b[0;34m=\u001b[0m \u001b[0;34m[\u001b[0m\u001b[0mmpath\u001b[0m\u001b[0;34m.\u001b[0m\u001b[0mPath\u001b[0m\u001b[0;34m(\u001b[0m\u001b[0m_seg\u001b[0m\u001b[0;34m)\u001b[0m \u001b[0;32mfor\u001b[0m \u001b[0m_seg\u001b[0m \u001b[0;32min\u001b[0m \u001b[0m_segments\u001b[0m\u001b[0;34m]\u001b[0m\u001b[0;34m\u001b[0m\u001b[0;34m\u001b[0m\u001b[0m\n\u001b[0m\u001b[1;32m   1375\u001b[0m         \u001b[0mself\u001b[0m\u001b[0;34m.\u001b[0m\u001b[0mstale\u001b[0m \u001b[0;34m=\u001b[0m \u001b[0;32mTrue\u001b[0m\u001b[0;34m\u001b[0m\u001b[0;34m\u001b[0m\u001b[0m\n\u001b[1;32m   1376\u001b[0m \u001b[0;34m\u001b[0m\u001b[0m\n",
      "\u001b[0;32m~/anaconda3/lib/python3.7/site-packages/matplotlib/collections.py\u001b[0m in \u001b[0;36m<listcomp>\u001b[0;34m(.0)\u001b[0m\n\u001b[1;32m   1372\u001b[0m             \u001b[0m_segments\u001b[0m \u001b[0;34m=\u001b[0m \u001b[0mself\u001b[0m\u001b[0;34m.\u001b[0m\u001b[0m_add_offsets\u001b[0m\u001b[0;34m(\u001b[0m\u001b[0m_segments\u001b[0m\u001b[0;34m)\u001b[0m\u001b[0;34m\u001b[0m\u001b[0;34m\u001b[0m\u001b[0m\n\u001b[1;32m   1373\u001b[0m \u001b[0;34m\u001b[0m\u001b[0m\n\u001b[0;32m-> 1374\u001b[0;31m         \u001b[0mself\u001b[0m\u001b[0;34m.\u001b[0m\u001b[0m_paths\u001b[0m \u001b[0;34m=\u001b[0m \u001b[0;34m[\u001b[0m\u001b[0mmpath\u001b[0m\u001b[0;34m.\u001b[0m\u001b[0mPath\u001b[0m\u001b[0;34m(\u001b[0m\u001b[0m_seg\u001b[0m\u001b[0;34m)\u001b[0m \u001b[0;32mfor\u001b[0m \u001b[0m_seg\u001b[0m \u001b[0;32min\u001b[0m \u001b[0m_segments\u001b[0m\u001b[0;34m]\u001b[0m\u001b[0;34m\u001b[0m\u001b[0;34m\u001b[0m\u001b[0m\n\u001b[0m\u001b[1;32m   1375\u001b[0m         \u001b[0mself\u001b[0m\u001b[0;34m.\u001b[0m\u001b[0mstale\u001b[0m \u001b[0;34m=\u001b[0m \u001b[0;32mTrue\u001b[0m\u001b[0;34m\u001b[0m\u001b[0;34m\u001b[0m\u001b[0m\n\u001b[1;32m   1376\u001b[0m \u001b[0;34m\u001b[0m\u001b[0m\n",
      "\u001b[0;32m~/anaconda3/lib/python3.7/site-packages/matplotlib/path.py\u001b[0m in \u001b[0;36m__init__\u001b[0;34m(self, vertices, codes, _interpolation_steps, closed, readonly)\u001b[0m\n\u001b[1;32m    128\u001b[0m         \u001b[0;32mif\u001b[0m \u001b[0mvertices\u001b[0m\u001b[0;34m.\u001b[0m\u001b[0mndim\u001b[0m \u001b[0;34m!=\u001b[0m \u001b[0;36m2\u001b[0m \u001b[0;32mor\u001b[0m \u001b[0mvertices\u001b[0m\u001b[0;34m.\u001b[0m\u001b[0mshape\u001b[0m\u001b[0;34m[\u001b[0m\u001b[0;36m1\u001b[0m\u001b[0;34m]\u001b[0m \u001b[0;34m!=\u001b[0m \u001b[0;36m2\u001b[0m\u001b[0;34m:\u001b[0m\u001b[0;34m\u001b[0m\u001b[0;34m\u001b[0m\u001b[0m\n\u001b[1;32m    129\u001b[0m             raise ValueError(\n\u001b[0;32m--> 130\u001b[0;31m                 \"'vertices' must be a 2D list or array with shape Nx2\")\n\u001b[0m\u001b[1;32m    131\u001b[0m \u001b[0;34m\u001b[0m\u001b[0m\n\u001b[1;32m    132\u001b[0m         \u001b[0;32mif\u001b[0m \u001b[0mcodes\u001b[0m \u001b[0;32mis\u001b[0m \u001b[0;32mnot\u001b[0m \u001b[0;32mNone\u001b[0m\u001b[0;34m:\u001b[0m\u001b[0;34m\u001b[0m\u001b[0;34m\u001b[0m\u001b[0m\n",
      "\u001b[0;31mValueError\u001b[0m: 'vertices' must be a 2D list or array with shape Nx2"
     ]
    },
    {
     "data": {
      "image/png": "[encoded data removed]",
      "text/plain": [
       "<Figure size 1440x720 with 1 Axes>"
      ]
     },
     "metadata": {
      "needs_background": "light"
     },
     "output_type": "display_data"
    }
   ],
   "source": [
    "def pnpoly(x, y, xyverts):\n",
    "    \"\"\"\n",
    "    Included code for this matplotlib method directly in file b/c some versions don't have it. \n",
    "    inside = pnpoly(x, y, xyverts)\n",
    "    Return 1 if x,y is inside the polygon, 0 otherwise.\n",
    "    *xyverts*\n",
    "        a sequence of x,y vertices.\n",
    "    A point on the boundary may be treated as inside or outside.\n",
    "    .. deprecated:: 1.2.0\n",
    "        Use :meth:`~matplotlib.path.Path.contains_point` instead.\n",
    "    \"\"\"\n",
    "    p = path.Path(xyverts)\n",
    "    return p.contains_point([x, y])\n",
    "\n",
    "def points_inside_poly(xypoints, xyverts):\n",
    "    \"\"\"\n",
    "    Included code for this matplotlib method directly in file b/c some versions don't have it. \n",
    "    mask = points_inside_poly(xypoints, xyverts)\n",
    "    Returns a boolean ndarray, True for points inside the polygon.\n",
    "    *xypoints*\n",
    "        a sequence of N x,y pairs.\n",
    "    *xyverts*\n",
    "        sequence of x,y vertices of the polygon.\n",
    "    A point on the boundary may be treated as inside or outside.\n",
    "    .. deprecated:: 1.2.0\n",
    "        Use :meth:`~matplotlib.path.Path.contains_points` instead.\n",
    "    \"\"\"\n",
    "    p = path.Path(xyverts)\n",
    "    return p.contains_points(xypoints)\n",
    "\n",
    "def points_in_polys(points, polys):\n",
    "    \"\"\"\n",
    "    This method masks off the water (where data will be unreliable).\n",
    "    \"\"\"\n",
    "    result = []\n",
    "    for i, poly in enumerate(polys):\n",
    "        if i == 0:\n",
    "            mask = points_inside_poly(points, poly)\n",
    "        else:\n",
    "            mask = mask | points_inside_poly(points, poly)\n",
    "    return np.array(mask)\n",
    "\n",
    "def makeNearestNeighborsDensityPlot(filename, col_of_interest = None, title_string = None, min_lat = 4.47, max_lat = 4.78, min_lon = -74.21, max_lon = -74.02, maskOffWater = True, cmap = 'bwr', color_min = None, color_max = None, n_neighbors = 20, res = .2, weights = lambda x:np.exp(-(x ** 2) / 3 ** 2)):\n",
    "    \n",
    "    \"\"\"\n",
    "    Makes a map of the density of events. Red = higher density, blue = lower density. \n",
    "    filename: the name of the file that contains the data. See sample_data.csv for an example. Should contain at least two columns: lat (latitude) and lon (longitude). \n",
    "    col_of_interest: If None, uses kernel density estimation to just plot the overall density of events. If not None, col_of_interest should be a column that contains 0s and 1s, where 1 denotes events of interest and 0 denotes background events; then uses k-nearest neighbors to estimate the fraction of events which are 1s. \n",
    "    title_string: The title for the map. \n",
    "    min_lat, max_lat, min_long, max_long: the boundaries of the map, in degrees. Negative longitudes = west; negative latitudes = south. By default set to borders of North America. \n",
    "    maskOffWater: if True, does not map for water. True by default. \n",
    "    cmap: the name of the colormap to use. See http://matplotlib.org/examples/color/colormaps_reference.html for list of options. \n",
    "    color_min, color_max: which densities are mapped to the maximum and minimum colors. For k-nearest neighbors, set to 0 and 1 by default; for kernel density estimation, set to 0 and the maximum density estimate by default. May have to play with these to get informative maps. \n",
    "    n_neighbors: for k-nearest neighbors, the number of neighbors to use to compute densities. Try increasing if the map is very spiky. \n",
    "    res: how high-resolution the map is. Lower numbers = HIGHER resolution (but will take longer to make.)\n",
    "    weights: for k-nearest neighbors, how to weight the points as a function of distance. By default uses a Gaussian kernel. Don't play with this unless you know what you're doing. \n",
    "    \"\"\"\n",
    "    d = pd.read_csv(filename)\n",
    "    if not (('lat' in d.columns) and ('lon' in d.columns)):\n",
    "        raise Exception('Error: dataset must contain lat and lon')\n",
    "    \n",
    "    if (col_of_interest is not None) and (col_of_interest not in d.columns):\n",
    "        raise Exception('Error: dataset must contain column labeled %s' % col_of_interest)\n",
    "        if not set(d[col_of_interest]) == set([0, 1]):\n",
    "            raise Exception(\"Error: column %s must contain 0s and 1s\" % col_of_interest)\n",
    "    #Filter for events with locations. \n",
    "    geolocated = d.dropna(subset = ['lat', 'lon']) \n",
    "    idxs = (geolocated['lat'] > min_lat) & (geolocated['lat'] < max_lat) \n",
    "    idxs = idxs &  (geolocated['lon'] > min_lon) & (geolocated['lon'] < max_lon) \n",
    "    geolocated = geolocated.loc[idxs]\n",
    "    \n",
    "    #Fit the appropriate model: k-nearest neighbors if col_of_interest is not None, otherwise Kernel Density Estimation. \n",
    "    if col_of_interest is not None:\n",
    "        model = KNeighborsClassifier(n_neighbors = n_neighbors, weights = weights)\n",
    "        print ('Total number of points', len(geolocated), 'in column of interest nonzero', geolocated[col_of_interest].sum())\n",
    "        model.fit(geolocated[['lat', 'lon']], geolocated[col_of_interest])   \n",
    "    else:\n",
    "        print ('Total number of points', len(geolocated))\n",
    "        model = KernelDensity(kernel='gaussian', bandwidth = 3).fit(geolocated[['lat', 'lon']])\n",
    "    \n",
    "    #Create a grid of points at which to predict. \n",
    "    x = np.arange(min_lat, max_lat, res)\n",
    "    y = np.arange(min_lon, max_lon, res)\n",
    "    X, Y = meshgrid(x, y)\n",
    "    numel = len(X) * len(X[0, :])\n",
    "    Z = np.zeros(X.shape)\n",
    "    unraveled_x = X.reshape([numel, 1])\n",
    "    unraveled_y = Y.reshape([numel, 1])\n",
    "    data_to_eval = np.hstack([unraveled_x, unraveled_y])\n",
    "    \n",
    "    #Make predictions using appropriate model. \n",
    "    if col_of_interest is not None:\n",
    "        density = model.predict_proba(data_to_eval)[:, 1]\n",
    "        if color_min is None:\n",
    "            color_min = 0\n",
    "        if color_max is None:\n",
    "            color_max = 1\n",
    "    else:\n",
    "        density = np.exp(model.score_samples(data_to_eval))\n",
    "        if color_min is None:\n",
    "            color_min = 0\n",
    "        if color_max is None:\n",
    "            color_max = density.max()\n",
    "\n",
    "    #Make map. \n",
    "    figure(figsize = [20, 10])    \n",
    "    m = Basemap(llcrnrlat = min_lat, urcrnrlat = max_lat, llcrnrlon = min_lon, urcrnrlon=max_lon, resolution='l', fix_aspect = False)\n",
    "    if maskOffWater:\n",
    "        m.drawcoastlines()\n",
    "        x, y = m(data_to_eval[:,1], data_to_eval[:,0])\n",
    "        loc = np.c_[x, y]\n",
    "        polys = [p.boundary for p in m.landpolygons]\n",
    "        on_land = points_in_polys(loc, polys) \n",
    "        density[~on_land] = (color_min + color_max) / 2\n",
    "    \n",
    "    density = density.reshape(X.shape)\n",
    "    contourf(Y, X, density, levels = np.linspace(color_min, color_max, 25))\n",
    "    m.drawcoastlines(linewidth = 2)\n",
    "    m.drawcountries(linewidth = 2)\n",
    "    m.drawstates(linewidth = 2)\n",
    "    colorbar()\n",
    "    set_cmap(cmap)\n",
    "    if title_string is not None:\n",
    "        title(title_string, fontsize = 30, fontweight = 'bold')\n",
    "        savefig('%s' % title_string, dpi = 300, format = 'png')\n",
    "    else:\n",
    "        savefig('plot.png', dpi = 300, format = 'png')\n",
    "    show()\n",
    "\n",
    "def generateSimulatedData():\n",
    "    \"\"\"\n",
    "    This generates some (not very realistic) simulated data.\n",
    "    \"\"\"\n",
    "    lats = list(35 + (np.random.random([2000,]) - .5) * 10)\n",
    "    longs = list(-100 + (np.random.random([1000,]) - .5) * 20) + list(-80 + (np.random.random([1000,]) - .5) * 20)\n",
    "    is_pizza_shop = [1 for i in range(1000)] + [0 for i in range(1000)] \n",
    "    d = pd.DataFrame({'lat':lats, 'lon':longs, 'shop_is_pizza_shop':is_pizza_shop})\n",
    "    d.to_csv('sample_data.csv', index = False)\n",
    "\n",
    "if __name__ == '__main__':\n",
    "    #generateSimulatedData()\n",
    "    filename = 'sample_data.csv'\n",
    "    print (\"Making plot without normalizing!\")\n",
    "    makeNearestNeighborsDensityPlot(filename, col_of_interest = None, title_string = \"Overall Shop Density\")\n",
    "    #print (\"Making plot with normalizing!\")\n",
    "    #makeNearestNeighborsDensityPlot(filename, col_of_interest = \"shop_is_pizza_shop\", title_string = \"Fraction of Shops which are Pizza Shops\")\n",
    "\n",
    "\n"
   ]
  },
  {
   "cell_type": "code",
   "execution_count": 1,
   "metadata": {},
   "outputs": [],
   "source": [
    "import geocoder"
   ]
  },
  {
   "cell_type": "code",
   "execution_count": 2,
   "metadata": {},
   "outputs": [],
   "source": [
    "loc = geocoder.google('Mountain View, CA')"
   ]
  },
  {
   "cell_type": "code",
   "execution_count": 3,
   "metadata": {},
   "outputs": [
    {
     "name": "stdout",
     "output_type": "stream",
     "text": [
      "None\n"
     ]
    }
   ],
   "source": [
    "print(loc.latlng)"
   ]
  },
  {
   "cell_type": "code",
   "execution_count": 4,
   "metadata": {},
   "outputs": [
    {
     "name": "stdout",
     "output_type": "stream",
     "text": [
      "<[REQUEST_DENIED] Google - Geocode [empty]>\n"
     ]
    }
   ],
   "source": [
    "print(loc)"
   ]
  },
  {
   "cell_type": "code",
   "execution_count": null,
   "metadata": {},
   "outputs": [],
   "source": []
  },
  {
   "cell_type": "code",
   "execution_count": null,
   "metadata": {},
   "outputs": [],
   "source": []
  },
  {
   "cell_type": "code",
   "execution_count": 30,
   "metadata": {},
   "outputs": [],
   "source": [
    "import json\n",
    "\n",
    "with open('BogotaNeighborhood.geojson') as data:\n",
    "    geo = json.load(data)\n",
    "    \n",
    "    if 'SCANOMBRE' in geo:\n",
    "    for attachment in geo[\"attachment\"]:\n",
    "        print (attachment)"
   ]
  },
  {
   "cell_type": "code",
   "execution_count": 53,
   "metadata": {},
   "outputs": [
    {
     "data": {
      "text/plain": [
       "-74.13010208434366"
      ]
     },
     "execution_count": 53,
     "metadata": {},
     "output_type": "execute_result"
    }
   ],
   "source": [
    "geo['features'][0]['geometry']['coordinates'][0]"
   ]
  },
  {
   "cell_type": "code",
   "execution_count": 50,
   "metadata": {},
   "outputs": [
    {
     "data": {
      "text/plain": [
       "'EL MOCHUELO II URBANO'"
      ]
     },
     "execution_count": 50,
     "metadata": {},
     "output_type": "execute_result"
    }
   ],
   "source": [
    "geo['features'][0]['properties']['SCANOMBRE']"
   ]
  },
  {
   "cell_type": "code",
   "execution_count": 51,
   "metadata": {},
   "outputs": [
    {
     "data": {
      "text/plain": [
       "1169"
      ]
     },
     "execution_count": 51,
     "metadata": {},
     "output_type": "execute_result"
    }
   ],
   "source": [
    "len(geo['features'])"
   ]
  },
  {
   "cell_type": "code",
   "execution_count": 54,
   "metadata": {},
   "outputs": [],
   "source": [
    "name = []\n",
    "lat = []\n",
    "lon = []\n",
    "for i in range(len(geo['features'])):\n",
    "    name.append(geo['features'][i]['properties']['SCANOMBRE'])\n",
    "    lat.append(geo['features'][i]['geometry']['coordinates'][1])\n",
    "    lon.append(geo['features'][i]['geometry']['coordinates'][0])"
   ]
  },
  {
   "cell_type": "code",
   "execution_count": 56,
   "metadata": {},
   "outputs": [],
   "source": [
    "dic = {'name':name, 'lat':lat, 'lon':lon}"
   ]
  },
  {
   "cell_type": "code",
   "execution_count": 57,
   "metadata": {},
   "outputs": [],
   "source": [
    "df = pd.DataFrame(dic)"
   ]
  },
  {
   "cell_type": "code",
   "execution_count": 58,
   "metadata": {},
   "outputs": [
    {
     "data": {
      "text/html": [
       "<div>\n",
       "<style scoped>\n",
       "    .dataframe tbody tr th:only-of-type {\n",
       "        vertical-align: middle;\n",
       "    }\n",
       "\n",
       "    .dataframe tbody tr th {\n",
       "        vertical-align: top;\n",
       "    }\n",
       "\n",
       "    .dataframe thead th {\n",
       "        text-align: right;\n",
       "    }\n",
       "</style>\n",
       "<table border=\"1\" class=\"dataframe\">\n",
       "  <thead>\n",
       "    <tr style=\"text-align: right;\">\n",
       "      <th></th>\n",
       "      <th>name</th>\n",
       "      <th>lat</th>\n",
       "      <th>lon</th>\n",
       "    </tr>\n",
       "  </thead>\n",
       "  <tbody>\n",
       "    <tr>\n",
       "      <th>0</th>\n",
       "      <td>EL MOCHUELO II URBANO</td>\n",
       "      <td>4.525412</td>\n",
       "      <td>-74.130102</td>\n",
       "    </tr>\n",
       "    <tr>\n",
       "      <th>1</th>\n",
       "      <td>SAN PABLO BOSA</td>\n",
       "      <td>4.604625</td>\n",
       "      <td>-74.189834</td>\n",
       "    </tr>\n",
       "    <tr>\n",
       "      <th>2</th>\n",
       "      <td>LOS SOCHES</td>\n",
       "      <td>4.499816</td>\n",
       "      <td>-74.088686</td>\n",
       "    </tr>\n",
       "    <tr>\n",
       "      <th>3</th>\n",
       "      <td>EL PORTAL DEL DIVINO</td>\n",
       "      <td>4.486215</td>\n",
       "      <td>-74.097791</td>\n",
       "    </tr>\n",
       "    <tr>\n",
       "      <th>4</th>\n",
       "      <td>LUCERO DEL SUR</td>\n",
       "      <td>4.551248</td>\n",
       "      <td>-74.141236</td>\n",
       "    </tr>\n",
       "    <tr>\n",
       "      <th>...</th>\n",
       "      <td>...</td>\n",
       "      <td>...</td>\n",
       "      <td>...</td>\n",
       "    </tr>\n",
       "    <tr>\n",
       "      <th>1164</th>\n",
       "      <td>LISBOA</td>\n",
       "      <td>4.715505</td>\n",
       "      <td>-74.035929</td>\n",
       "    </tr>\n",
       "    <tr>\n",
       "      <th>1165</th>\n",
       "      <td>PROVIVIENDA OCCIDENTAL</td>\n",
       "      <td>4.614115</td>\n",
       "      <td>-74.144426</td>\n",
       "    </tr>\n",
       "    <tr>\n",
       "      <th>1166</th>\n",
       "      <td>EL NUEVO PORTAL II</td>\n",
       "      <td>4.490772</td>\n",
       "      <td>-74.100689</td>\n",
       "    </tr>\n",
       "    <tr>\n",
       "      <th>1167</th>\n",
       "      <td>SANTA BARBARA CENTRAL</td>\n",
       "      <td>4.699766</td>\n",
       "      <td>-74.037916</td>\n",
       "    </tr>\n",
       "    <tr>\n",
       "      <th>1168</th>\n",
       "      <td>FISCALA ALTA</td>\n",
       "      <td>4.526359</td>\n",
       "      <td>-74.101682</td>\n",
       "    </tr>\n",
       "  </tbody>\n",
       "</table>\n",
       "<p>1169 rows × 3 columns</p>\n",
       "</div>"
      ],
      "text/plain": [
       "                        name       lat        lon\n",
       "0      EL MOCHUELO II URBANO  4.525412 -74.130102\n",
       "1             SAN PABLO BOSA  4.604625 -74.189834\n",
       "2                 LOS SOCHES  4.499816 -74.088686\n",
       "3       EL PORTAL DEL DIVINO  4.486215 -74.097791\n",
       "4             LUCERO DEL SUR  4.551248 -74.141236\n",
       "...                      ...       ...        ...\n",
       "1164                  LISBOA  4.715505 -74.035929\n",
       "1165  PROVIVIENDA OCCIDENTAL  4.614115 -74.144426\n",
       "1166      EL NUEVO PORTAL II  4.490772 -74.100689\n",
       "1167   SANTA BARBARA CENTRAL  4.699766 -74.037916\n",
       "1168            FISCALA ALTA  4.526359 -74.101682\n",
       "\n",
       "[1169 rows x 3 columns]"
      ]
     },
     "execution_count": 58,
     "metadata": {},
     "output_type": "execute_result"
    }
   ],
   "source": [
    "df"
   ]
  },
  {
   "cell_type": "code",
   "execution_count": 60,
   "metadata": {},
   "outputs": [],
   "source": [
    "df.to_csv('coordenadas_barrios_bogota.csv', index=False)"
   ]
  },
  {
   "cell_type": "code",
   "execution_count": null,
   "metadata": {},
   "outputs": [],
   "source": []
  }
 ],
 "metadata": {
  "kernelspec": {
   "display_name": "Python 3",
   "language": "python",
   "name": "python3"
  },
  "language_info": {
   "codemirror_mode": {
    "name": "ipython",
    "version": 3
   },
   "file_extension": ".py",
   "mimetype": "text/x-python",
   "name": "python",
   "nbconvert_exporter": "python",
   "pygments_lexer": "ipython3",
   "version": "3.7.6"
  }
 },
 "nbformat": 4,
 "nbformat_minor": 4
}
